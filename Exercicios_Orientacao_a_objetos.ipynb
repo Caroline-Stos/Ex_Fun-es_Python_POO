{
 "cells": [
  {
   "cell_type": "markdown",
   "metadata": {
    "id": "CXof86h3x2Gx"
   },
   "source": [
    "# Exercícios : Orientação a Objetos no Python"
   ]
  },
  {
   "cell_type": "markdown",
   "metadata": {
    "id": "s4mG0KoFx2G1"
   },
   "source": [
    "### Exercício 1: Registro de Pacientes\n",
    "\n",
    "Crie uma classe chamada Paciente que represente os pacientes de uma clínica de saúde. A classe deve ter as seguintes propriedades:\n",
    "\n",
    "nome: Nome do paciente\n",
    "idade: Idade do paciente\n",
    "sexo: Sexo do paciente (masculino/feminino)\n",
    "historico_medico: Lista que armazena o histórico médico do paciente\n",
    "\n",
    "Além disso, a classe deve ter os seguintes métodos:\n",
    "\n",
    "adicionar_historico(medico, diagnostico): Método que adiciona uma entrada ao histórico médico do paciente, contendo o nome do médico e o diagnóstico fornecido.\n",
    "imprimir_historico(): Método que imprime o histórico médico do paciente."
   ]
  },
  {
   "cell_type": "code",
   "execution_count": 29,
   "metadata": {
    "id": "Pk1_MuKIx2G2"
   },
   "outputs": [
    {
     "name": "stdout",
     "output_type": "stream",
     "text": [
      "Paciente: Caroline \n",
      "Idade: 26 \n",
      "Sexo: Feminino\n",
      "\n",
      "Histórico Médico:\n",
      "\n",
      "Data da consulta: 01/03/2024\n",
      "Médico responsável: Felipe\n",
      "Diagnóstico: Dor de garganta - Sintomas leves.\n",
      "\n"
     ]
    }
   ],
   "source": [
    "class Paciente:\n",
    "    nome = ''\n",
    "    idade = ''\n",
    "    sexo = ''\n",
    "    historico_medico = {}\n",
    "    \n",
    "    def __init__(self, nome, idade, sexo):\n",
    "        self.nome = nome\n",
    "        self.idade = idade\n",
    "        self.sexo = sexo\n",
    "\n",
    "    def adicionar_historico(self, data_cons, medico, diagnostico):\n",
    "        self.historico_medico[(data_cons)] = {'Médico': medico, 'Diagnostico': diagnostico}\n",
    "        self.imprimir_historico()\n",
    "        \n",
    "    def imprimir_historico(self):\n",
    "        historico = f\"Paciente: {self.nome} \\nIdade: {self.idade} \\nSexo: {self.sexo}\\n\\nHistórico Médico:\\n\\n\"\n",
    "        for data_cons, consulta in self.historico_medico.items():\n",
    "            historico += f\"Data da consulta: {data_cons}\\n\"\n",
    "            historico += f\"Médico responsável: {consulta['Médico']}\\n\"\n",
    "            historico += f\"Diagnóstico: {consulta['Diagnostico']}\\n\"\n",
    "        return print(historico)\n",
    "      \n",
    "paciente_1 = Paciente(nome = 'Caroline', idade = '26', sexo = 'Feminino')\n",
    "data_cons = '01/03/2024'\n",
    "historico_medico = ('Felipe', 'Dor de garganta - Sintomas leves.')\n",
    "                \n",
    "paciente_1.adicionar_historico(data_cons = data_cons, medico = historico_medico[0], diagnostico = historico_medico[1])\n",
    "    "
   ]
  },
  {
   "cell_type": "markdown",
   "metadata": {
    "id": "nmGNe_FHx2G2"
   },
   "source": [
    "### Exercício 2: Controle de Equipamentos Médicos\n",
    "\n",
    "Crie uma classe chamada EquipamentoMedico que representa os equipamentos médicos de uma clínica. A classe deve ter as seguintes propriedades:\n",
    "\n",
    "nome: Nome do equipamento\n",
    "tipo: Tipo de equipamento (ex: \"Raio-X\", \"Tomógrafo\", etc.)\n",
    "status: Status do equipamento (disponível/manutenção/fora de serviço)\n",
    "Além disso, a classe deve ter os seguintes métodos:\n",
    "\n",
    "alterar_status(novo_status): Método que altera o status do equipamento.\n",
    "verificar_status(): Método que retorna o status atual do equipamento."
   ]
  },
  {
   "cell_type": "code",
   "execution_count": 3,
   "metadata": {
    "id": "v4magUQOx2G2"
   },
   "outputs": [
    {
     "data": {
      "text/plain": [
       "'Equipamento: Descompressor, Tipo: Tomógrafo, Status: fora de serviço'"
      ]
     },
     "execution_count": 3,
     "metadata": {},
     "output_type": "execute_result"
    }
   ],
   "source": [
    "class EquipamentoMedico:\n",
    "    def __init__(self, nome_eq, tipo_eq, status_eq):\n",
    "        self.nome = nome_eq\n",
    "        self.tipo = tipo_eq\n",
    "        self.status = status_eq\n",
    "\n",
    "    def alterar_status(self, novo_status): \n",
    "        self.status = novo_status\n",
    "    \n",
    "    def verificar_status(self):\n",
    "        equipamento = f'Equipamento: {self.nome}, Tipo: {self.tipo}, Status: {self.status}'\n",
    "        return equipamento\n",
    "    \n",
    "Eq_1 = EquipamentoMedico(nome_eq= 'Descompressor', tipo_eq= 'Tomógrafo', status_eq= 'Disponível')\n",
    "\n",
    "Eq_1.alterar_status('fora de serviço')\n",
    "\n",
    "Eq_1.verificar_status()"
   ]
  },
  {
   "cell_type": "markdown",
   "metadata": {
    "id": "mORBC6R9x2G2"
   },
   "source": [
    "### Exercício: Registro de Consultas Médicas\n",
    "Crie uma classe chamada ConsultaMedica que represente as consultas médicas realizadas em uma clínica. A classe deve ter as seguintes propriedades:\n",
    "\n",
    "data: Data da consulta\n",
    "paciente: Objeto da classe Paciente representando o paciente da consulta\n",
    "medico: Nome do médico responsável pela consulta\n",
    "diagnostico: Diagnóstico fornecido durante a consulta\n",
    "Além disso, a classe deve ter um método:\n",
    "\n",
    "imprimir_informacoes(): Método que imprime as informações da consulta."
   ]
  },
  {
   "cell_type": "code",
   "execution_count": 28,
   "metadata": {
    "id": "9Cx153rLx2G3"
   },
   "outputs": [
    {
     "data": {
      "text/plain": [
       "\"Data: 29/02/2024, Paciente: Caroline, Médico: Larissa, \\n Diagnostico: ('Sinusite', 'Queixa de dores na face e congestão nasal.')\""
      ]
     },
     "execution_count": 28,
     "metadata": {},
     "output_type": "execute_result"
    }
   ],
   "source": [
    "class ConsultaMedica:\n",
    "    def __init__(self, data, paciente, medico, diagnostico):\n",
    "        self.data = data\n",
    "        self.paciente = paciente\n",
    "        self.medico = medico\n",
    "        self.diagnostico = diagnostico\n",
    "    \n",
    "    def imprimir_informacoes(self):\n",
    "        resumo = f'Data: {self.data}, Paciente: {self.paciente}, Médico: {self.medico}, \\n Diagnostico: {self.diagnostico}'\n",
    "        return resumo\n",
    "        \n",
    "data = '29/02/2024'\n",
    "paciente = 'Caroline'\n",
    "medico = 'Larissa'\n",
    "diagnostico = ('Sinusite', 'Queixa de dores na face e congestão nasal.')\n",
    "\n",
    "consulta_1 = ConsultaMedica(data, paciente, medico, diagnostico)\n",
    "consulta_1.imprimir_informacoes()\n"
   ]
  },
  {
   "cell_type": "code",
   "execution_count": null,
   "metadata": {},
   "outputs": [],
   "source": []
  }
 ],
 "metadata": {
  "colab": {
   "provenance": []
  },
  "kernelspec": {
   "display_name": "Python 3 (ipykernel)",
   "language": "python",
   "name": "python3"
  },
  "language_info": {
   "codemirror_mode": {
    "name": "ipython",
    "version": 3
   },
   "file_extension": ".py",
   "mimetype": "text/x-python",
   "name": "python",
   "nbconvert_exporter": "python",
   "pygments_lexer": "ipython3",
   "version": "3.11.5"
  }
 },
 "nbformat": 4,
 "nbformat_minor": 1
}
