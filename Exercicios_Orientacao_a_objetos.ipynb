{
  "cells": [
    {
      "cell_type": "markdown",
      "metadata": {
        "id": "CXof86h3x2Gx"
      },
      "source": [
        "# Exercícios : Orientação a Objetos no Python"
      ]
    },
    {
      "cell_type": "markdown",
      "metadata": {
        "id": "s4mG0KoFx2G1"
      },
      "source": [
        "### Exercício 1: Registro de Pacientes\n",
        "\n",
        "Crie uma classe chamada Paciente que represente os pacientes de uma clínica de saúde. A classe deve ter as seguintes propriedades:\n",
        "\n",
        "nome: Nome do paciente\n",
        "idade: Idade do paciente\n",
        "sexo: Sexo do paciente (masculino/feminino)\n",
        "historico_medico: Lista que armazena o histórico médico do paciente\n",
        "\n",
        "Além disso, a classe deve ter os seguintes métodos:\n",
        "\n",
        "adicionar_historico(medico, diagnostico): Método que adiciona uma entrada ao histórico médico do paciente, contendo o nome do médico e o diagnóstico fornecido.\n",
        "imprimir_historico(): Método que imprime o histórico médico do paciente."
      ]
    },
    {
      "cell_type": "code",
      "execution_count": 47,
      "metadata": {
        "id": "Pk1_MuKIx2G2"
      },
      "outputs": [
        {
          "data": {
            "text/plain": [
              "\"Paciente: Caroline, Sexo: Feminino, Histórico Médico: [None, 'Medico:{medico}', 'Diagnostico:{diagnostico}']\""
            ]
          },
          "execution_count": 47,
          "metadata": {},
          "output_type": "execute_result"
        }
      ],
      "source": [
        "class Paciente:\n",
        "    def __init__(self, nome, sexo, historico_medico):\n",
        "        self.nome = nome\n",
        "        self.sexo = sexo\n",
        "        self.historico_medico = [historico_medico]\n",
        "\n",
        "    def adicionar_historico(self, medico, diagnostico):\n",
        "        medico = medico\n",
        "        diagnostico = diagnostico\n",
        "        self.historico_medico += ('Medico:{medico}', 'Diagnostico:{diagnostico}')\n",
        "    \n",
        "    def imprimir_historico(self):\n",
        "        historico = f'Paciente: {self.nome}, Sexo: {self.sexo}, Histórico Médico: {self.historico_medico}'\n",
        "        return historico\n",
        "\n",
        "paciente = 'Caroline'\n",
        "sexo = 'Feminino'\n",
        "medico = 'Felipe' \n",
        "diagnostico = 'Dor de garganta - Sintomas leves.'\n",
        "\n",
        "paciente_1 = Paciente(paciente, sexo, historico_medico)\n",
        "historico_medico = paciente_1.adicionar_historico(medico, diagnostico)\n",
        "paciente_1.imprimir_historico()\n",
        "\n",
        "\n"
      ]
    },
    {
      "cell_type": "markdown",
      "metadata": {
        "id": "nmGNe_FHx2G2"
      },
      "source": [
        "### Exercício 2: Controle de Equipamentos Médicos\n",
        "\n",
        "Crie uma classe chamada EquipamentoMedico que representa os equipamentos médicos de uma clínica. A classe deve ter as seguintes propriedades:\n",
        "\n",
        "nome: Nome do equipamento\n",
        "tipo: Tipo de equipamento (ex: \"Raio-X\", \"Tomógrafo\", etc.)\n",
        "status: Status do equipamento (disponível/manutenção/fora de serviço)\n",
        "Além disso, a classe deve ter os seguintes métodos:\n",
        "\n",
        "alterar_status(novo_status): Método que altera o status do equipamento.\n",
        "verificar_status(): Método que retorna o status atual do equipamento."
      ]
    },
    {
      "cell_type": "code",
      "execution_count": 39,
      "metadata": {
        "id": "v4magUQOx2G2"
      },
      "outputs": [
        {
          "data": {
            "text/plain": [
              "'Equipamento: Descompressor, Tipo: Tomógrafo, Status: Disponível'"
            ]
          },
          "execution_count": 39,
          "metadata": {},
          "output_type": "execute_result"
        }
      ],
      "source": [
        "class EquipamentoMedico:\n",
        "    def __init__(self, nome_eq, tipo_eq, status_eq):\n",
        "        self.nome = nome_eq\n",
        "        self.tipo = tipo_eq\n",
        "        self.status = status_eq\n",
        "\n",
        "    def alterar_status(self, novo_status): \n",
        "        self.status = novo_status\n",
        "    \n",
        "    def verificar_status(self):\n",
        "        equipamento = f'Equipamento: {self.nome}, Tipo: {self.tipo}, Status: {self.status}'\n",
        "        return equipamento\n",
        "    \n",
        "Eq_1 = EquipamentoMedico(nome_eq= 'Descompressor', tipo_eq= 'Tomógrafo', status_eq= 'Disponível')\n",
        "\n",
        "# Eq_1.alterar_status('Manutenção')\n",
        "\n",
        "Eq_1.verificar_status()\n"
      ]
    },
    {
      "cell_type": "markdown",
      "metadata": {
        "id": "mORBC6R9x2G2"
      },
      "source": [
        "### Exercício: Registro de Consultas Médicas\n",
        "Crie uma classe chamada ConsultaMedica que represente as consultas médicas realizadas em uma clínica. A classe deve ter as seguintes propriedades:\n",
        "\n",
        "data: Data da consulta\n",
        "paciente: Objeto da classe Paciente representando o paciente da consulta\n",
        "medico: Nome do médico responsável pela consulta\n",
        "diagnostico: Diagnóstico fornecido durante a consulta\n",
        "Além disso, a classe deve ter um método:\n",
        "\n",
        "imprimir_informacoes(): Método que imprime as informações da consulta."
      ]
    },
    {
      "cell_type": "code",
      "execution_count": null,
      "metadata": {
        "id": "9Cx153rLx2G3"
      },
      "outputs": [],
      "source": [
        "\n"
      ]
    }
  ],
  "metadata": {
    "colab": {
      "provenance": []
    },
    "kernelspec": {
      "display_name": "Python 3",
      "language": "python",
      "name": "python3"
    },
    "language_info": {
      "codemirror_mode": {
        "name": "ipython",
        "version": 3
      },
      "file_extension": ".py",
      "mimetype": "text/x-python",
      "name": "python",
      "nbconvert_exporter": "python",
      "pygments_lexer": "ipython3",
      "version": "3.11.5"
    }
  },
  "nbformat": 4,
  "nbformat_minor": 0
}
