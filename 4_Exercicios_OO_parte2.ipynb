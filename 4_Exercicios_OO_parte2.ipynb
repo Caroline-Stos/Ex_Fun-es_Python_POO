{
  "cells": [
    {
      "cell_type": "markdown",
      "metadata": {
        "id": "CXof86h3x2Gx"
      },
      "source": [
        "# Exercícios : Orientação a Objetos no Python - Parte 2"
      ]
    },
    {
      "cell_type": "markdown",
      "metadata": {
        "id": "s4mG0KoFx2G1"
      },
      "source": [
        "### Exercício 1: Herança\n",
        "\n",
        "Crie uma classe chamada ProfissionalSaude com um método trabalhar() que imprime \"Profissional de saúde em ação\".\n",
        "\n",
        "Em seguida, crie uma classe Medico que herda de ProfissionalSaude e sobrescreva o método trabalhar() para que imprima \"Médico realizando cirurgia\".\n",
        "\n",
        "Em seguida, crie uma classe Enfermeiro que também herda de ProfissionalSaude e sobrescreva o método trabalhar() para que imprima \"Enfermeiro aplicando injeção\".\n",
        "\n",
        "Teste todas as classes."
      ]
    },
    {
      "cell_type": "code",
      "execution_count": 15,
      "metadata": {
        "id": "Pk1_MuKIx2G2"
      },
      "outputs": [
        {
          "name": "stdout",
          "output_type": "stream",
          "text": [
            "Profissional de saúde em ação.\n",
            "Médico realizando cirurgia.\n",
            "Enfermeiro aplicando injeção.\n"
          ]
        }
      ],
      "source": [
        "class ProfissionalSaude:\n",
        "    def trabalhar(self):\n",
        "        print(\"Profissional de saúde em ação.\")\n",
        "    \n",
        "class Medico(ProfissionalSaude):\n",
        "    def trabalhar(self):\n",
        "        print(\"Médico realizando cirurgia.\")\n",
        "    \n",
        "class Enfermeiro(ProfissionalSaude):\n",
        "    def trabalhar(self):\n",
        "        print(\"Enfermeiro aplicando injeção.\")\n",
        "    \n",
        "prof = ProfissionalSaude()\n",
        "prof.trabalhar()\n",
        "\n",
        "medico = Medico()\n",
        "medico.trabalhar()\n",
        "\n",
        "enfermeiro = Enfermeiro()\n",
        "enfermeiro.trabalhar()\n",
        "\n"
      ]
    },
    {
      "cell_type": "markdown",
      "metadata": {
        "id": "nmGNe_FHx2G2"
      },
      "source": [
        "### Exercício 2:\n",
        "\n",
        "Crie uma classe chamada Veiculo com um método mover() que imprime \"Veículo em movimento\".\n",
        "\n",
        "Em seguida, crie uma classe Carro que herda de Veiculo e sobrescreva o método mover() para que imprima \"Carro andando\".\n",
        "\n",
        "Em seguida, crie outra classe Aviao que herda de Veiculo e sobrescreva o método mover() para que imprima \"Aviao voando\".\n",
        "\n",
        "Teste todas as classes."
      ]
    },
    {
      "cell_type": "code",
      "execution_count": 17,
      "metadata": {
        "id": "v4magUQOx2G2"
      },
      "outputs": [
        {
          "name": "stdout",
          "output_type": "stream",
          "text": [
            "Veículo em movimento.\n",
            "Carro andando.\n",
            "Avião voando.\n"
          ]
        }
      ],
      "source": [
        "class Veiculo:\n",
        "    def mover(self):\n",
        "        print(\"Veículo em movimento.\")\n",
        "\n",
        "class Carro(Veiculo):\n",
        "    def mover(self):\n",
        "        print(\"Carro andando.\")\n",
        "\n",
        "class Aviao(Veiculo):\n",
        "    def mover(self):\n",
        "        print(\"Avião voando.\")\n",
        "\n",
        "veiculo = Veiculo()\n",
        "veiculo.mover()\n",
        "\n",
        "carro = Carro()\n",
        "carro.mover()\n",
        "\n",
        "aviao = Aviao()\n",
        "aviao.mover()"
      ]
    },
    {
      "cell_type": "markdown",
      "metadata": {
        "id": "mORBC6R9x2G2"
      },
      "source": [
        "### Exercício 3: Polimorfismo de Classe\n",
        "Crie uma classe base chamada Forma com um método area() que retorna 0.\n",
        "\n",
        "Em seguida, crie três classes: Quadrado, Circulo e Retangulo, cada uma herdando de Forma.\n",
        "Implemente o método area() em cada uma dessas classes para calcular a área do quadrado, do círculo e do retângulo, respectivamente.\n",
        "\n",
        "Teste as três classes para calcular e imprimir a área de um quadrado com lado 5, de um círculo com raio 3 e de um retângulo com base 4 e altura 6."
      ]
    },
    {
      "cell_type": "code",
      "execution_count": 53,
      "metadata": {
        "id": "9Cx153rLx2G3"
      },
      "outputs": [
        {
          "name": "stdout",
          "output_type": "stream",
          "text": [
            "A area do quadrado é: 25.\n",
            "A área do círculo é: 3.14.\n",
            "A área o retangulo é: 24.\n"
          ]
        }
      ],
      "source": [
        "import math\n",
        "\n",
        "class Forma:\n",
        "    def area(self):\n",
        "        return 0\n",
        "    \n",
        "class Quadrado(Forma):\n",
        "    def __init__(self, lado_a, lado_b):\n",
        "        self.lado_a = lado_a\n",
        "        self.lado_b = lado_b\n",
        "\n",
        "    def area(self):\n",
        "        return print(f'A area do quadrado é: {self.lado_a * self.lado_b}.')\n",
        "    \n",
        "class Circulo(Forma):\n",
        "    def __init__(self, raio):\n",
        "        self.raio = raio\n",
        "    \n",
        "    def area(self):\n",
        "        return print(f'A área do círculo é: {round(math.pi * (math.isqrt(self.raio)), 2)}.')\n",
        "    \n",
        "class Retangulo(Forma):\n",
        "    def __init__(self, base, altura):\n",
        "        self.base = base\n",
        "        self.altura = altura\n",
        "        \n",
        "    def area(self):\n",
        "        return print(f'A área o retangulo é: {self.base * self.altura}.')\n",
        "    \n",
        "quadrado = Quadrado(5, 5)\n",
        "quadrado.area()\n",
        "\n",
        "circulo = Circulo(3)\n",
        "circulo.area()\n",
        "\n",
        "retangulo = Retangulo(4, 6)\n",
        "retangulo.area()"
      ]
    },
    {
      "cell_type": "markdown",
      "metadata": {
        "id": "HsEjKqC3d1Hl"
      },
      "source": [
        "## Exercício 4: Polimorfismo de Interface\n",
        "Imagine que você está desenvolvendo um software para controle de produção em uma fábrica.\n",
        "\n",
        "Você precisa criar uma interface chamada Maquina que contenha um método executar() para simular o funcionamento de diferentes máquinas industriais.\n",
        "\n",
        "Em seguida, crie duas classes: Furadeira e Esteira, ambas implementando a interface Maquina. A classe Furadeira deve ter um método executar() que simula o funcionamento de uma furadeira, enquanto a classe Esteira deve ter um método executar() que simula o transporte de itens em uma esteira.\n",
        "\n",
        "Finalmente, crie uma função producao que recebe uma lista de objetos do tipo Maquina e chama o método executar() para cada objeto na lista."
      ]
    },
    {
      "cell_type": "code",
      "execution_count": 48,
      "metadata": {
        "id": "4ZwtjwkRd_hk"
      },
      "outputs": [
        {
          "name": "stdout",
          "output_type": "stream",
          "text": [
            "Furadeira em funcionamento.\n",
            "Esteira em funcionamento.\n"
          ]
        }
      ],
      "source": [
        "class Maquina:\n",
        "    def executar(self):\n",
        "        return print(\"Máquina em funcionamento.\")\n",
        "    \n",
        "class Furadeira(Maquina):\n",
        "    def executar(self):\n",
        "        return print(\"Furadeira em funcionamento.\")\n",
        "    \n",
        "class Esteira(Maquina):\n",
        "    def executar(self):\n",
        "        return print(\"Esteira em funcionamento.\")\n",
        " \n",
        "def Producao(furadeira, esteira):\n",
        "    furadeira.executar()\n",
        "    esteira.executar()\n",
        "\n",
        "furadeira = Furadeira()\n",
        "esteira = Esteira()\n",
        "\n",
        "producao = Producao(furadeira, esteira)\n",
        "\n"
      ]
    }
  ],
  "metadata": {
    "colab": {
      "provenance": []
    },
    "kernelspec": {
      "display_name": "Python 3",
      "language": "python",
      "name": "python3"
    },
    "language_info": {
      "codemirror_mode": {
        "name": "ipython",
        "version": 3
      },
      "file_extension": ".py",
      "mimetype": "text/x-python",
      "name": "python",
      "nbconvert_exporter": "python",
      "pygments_lexer": "ipython3",
      "version": "3.11.5"
    }
  },
  "nbformat": 4,
  "nbformat_minor": 0
}
